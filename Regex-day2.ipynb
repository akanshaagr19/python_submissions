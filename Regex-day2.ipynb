{
 "cells": [
  {
   "cell_type": "code",
   "execution_count": 1,
   "id": "2e142b4e",
   "metadata": {},
   "outputs": [
    {
     "data": {
      "text/plain": [
       "512"
      ]
     },
     "execution_count": 1,
     "metadata": {},
     "output_type": "execute_result"
    }
   ],
   "source": [
    "2**3**2"
   ]
  },
  {
   "cell_type": "code",
   "execution_count": 3,
   "id": "5f6fc271",
   "metadata": {},
   "outputs": [
    {
     "data": {
      "text/plain": [
       "'N'"
      ]
     },
     "execution_count": 3,
     "metadata": {},
     "output_type": "execute_result"
    }
   ],
   "source": [
    "city = 'RAJASTHAN'\n",
    "city[-1]"
   ]
  },
  {
   "cell_type": "code",
   "execution_count": 4,
   "id": "3b424fb8",
   "metadata": {},
   "outputs": [
    {
     "data": {
      "text/plain": [
       "'T'"
      ]
     },
     "execution_count": 4,
     "metadata": {},
     "output_type": "execute_result"
    }
   ],
   "source": [
    "city[-4]"
   ]
  },
  {
   "cell_type": "code",
   "execution_count": 5,
   "id": "d0d8da8d",
   "metadata": {},
   "outputs": [
    {
     "data": {
      "text/plain": [
       "'RAJA'"
      ]
     },
     "execution_count": 5,
     "metadata": {},
     "output_type": "execute_result"
    }
   ],
   "source": [
    "#cake =cut slice\n",
    "#slicing operator \n",
    "#variable [start : stop :[step]] ===> stopping is exclusive\n",
    "\n",
    "city = 'RAJASTHAN'\n",
    "city[0:4]"
   ]
  },
  {
   "cell_type": "code",
   "execution_count": 6,
   "id": "ae5635e8",
   "metadata": {},
   "outputs": [
    {
     "data": {
      "text/plain": [
       "'RAJ'"
      ]
     },
     "execution_count": 6,
     "metadata": {},
     "output_type": "execute_result"
    }
   ],
   "source": [
    "city[0:3]"
   ]
  },
  {
   "cell_type": "code",
   "execution_count": 7,
   "id": "fb01fdb1",
   "metadata": {},
   "outputs": [
    {
     "data": {
      "text/plain": [
       "'AJA'"
      ]
     },
     "execution_count": 7,
     "metadata": {},
     "output_type": "execute_result"
    }
   ],
   "source": [
    "city[1:4]"
   ]
  },
  {
   "cell_type": "code",
   "execution_count": 8,
   "id": "7160ced1",
   "metadata": {},
   "outputs": [
    {
     "data": {
      "text/plain": [
       "'RAJASTHAN'"
      ]
     },
     "execution_count": 8,
     "metadata": {},
     "output_type": "execute_result"
    }
   ],
   "source": [
    "city[0:]"
   ]
  },
  {
   "cell_type": "code",
   "execution_count": 9,
   "id": "873a5fff",
   "metadata": {},
   "outputs": [
    {
     "data": {
      "text/plain": [
       "'AJASTHAN'"
      ]
     },
     "execution_count": 9,
     "metadata": {},
     "output_type": "execute_result"
    }
   ],
   "source": [
    "city[1:]"
   ]
  },
  {
   "cell_type": "code",
   "execution_count": 10,
   "id": "0cc04b40",
   "metadata": {},
   "outputs": [
    {
     "data": {
      "text/plain": [
       "'THAN'"
      ]
     },
     "execution_count": 10,
     "metadata": {},
     "output_type": "execute_result"
    }
   ],
   "source": [
    "city[5:]"
   ]
  },
  {
   "cell_type": "code",
   "execution_count": 11,
   "id": "87f815c0",
   "metadata": {},
   "outputs": [
    {
     "data": {
      "text/plain": [
       "'RAJAS'"
      ]
     },
     "execution_count": 11,
     "metadata": {},
     "output_type": "execute_result"
    }
   ],
   "source": [
    "city[:5]"
   ]
  },
  {
   "cell_type": "code",
   "execution_count": 12,
   "id": "44706121",
   "metadata": {},
   "outputs": [
    {
     "data": {
      "text/plain": [
       "''"
      ]
     },
     "execution_count": 12,
     "metadata": {},
     "output_type": "execute_result"
    }
   ],
   "source": [
    "city[0:0]"
   ]
  },
  {
   "cell_type": "code",
   "execution_count": 13,
   "id": "dbae67cd",
   "metadata": {},
   "outputs": [
    {
     "data": {
      "text/plain": [
       "'A'"
      ]
     },
     "execution_count": 13,
     "metadata": {},
     "output_type": "execute_result"
    }
   ],
   "source": [
    "city[1:2]"
   ]
  },
  {
   "cell_type": "code",
   "execution_count": 14,
   "id": "3162880d",
   "metadata": {},
   "outputs": [
    {
     "data": {
      "text/plain": [
       "'RAJA'"
      ]
     },
     "execution_count": 14,
     "metadata": {},
     "output_type": "execute_result"
    }
   ],
   "source": [
    "city[0:4:1]"
   ]
  },
  {
   "cell_type": "code",
   "execution_count": 15,
   "id": "44a7a5dd",
   "metadata": {},
   "outputs": [
    {
     "data": {
      "text/plain": [
       "'RAJA'"
      ]
     },
     "execution_count": 15,
     "metadata": {},
     "output_type": "execute_result"
    }
   ],
   "source": [
    "city[0:4]"
   ]
  },
  {
   "cell_type": "code",
   "execution_count": 16,
   "id": "ae33c673",
   "metadata": {},
   "outputs": [
    {
     "data": {
      "text/plain": [
       "'RJ'"
      ]
     },
     "execution_count": 16,
     "metadata": {},
     "output_type": "execute_result"
    }
   ],
   "source": [
    "city[0:4:2]"
   ]
  },
  {
   "cell_type": "code",
   "execution_count": 17,
   "id": "ffda7fb0",
   "metadata": {},
   "outputs": [
    {
     "data": {
      "text/plain": [
       "'RAH'"
      ]
     },
     "execution_count": 17,
     "metadata": {},
     "output_type": "execute_result"
    }
   ],
   "source": [
    "city[0::3]"
   ]
  },
  {
   "cell_type": "code",
   "execution_count": 18,
   "id": "55a059d3",
   "metadata": {},
   "outputs": [
    {
     "data": {
      "text/plain": [
       "''"
      ]
     },
     "execution_count": 18,
     "metadata": {},
     "output_type": "execute_result"
    }
   ],
   "source": [
    "city[0:4:-1]"
   ]
  },
  {
   "cell_type": "code",
   "execution_count": 19,
   "id": "445e3fba",
   "metadata": {},
   "outputs": [],
   "source": [
    "#output of above will be blank string \n"
   ]
  },
  {
   "cell_type": "code",
   "execution_count": 20,
   "id": "c483fde2",
   "metadata": {},
   "outputs": [
    {
     "data": {
      "text/plain": [
       "''"
      ]
     },
     "execution_count": 20,
     "metadata": {},
     "output_type": "execute_result"
    }
   ],
   "source": [
    "city[-1:-4]"
   ]
  },
  {
   "cell_type": "code",
   "execution_count": 21,
   "id": "f01958b9",
   "metadata": {},
   "outputs": [
    {
     "data": {
      "text/plain": [
       "'NAH'"
      ]
     },
     "execution_count": 21,
     "metadata": {},
     "output_type": "execute_result"
    }
   ],
   "source": [
    "city[-1:-4:-1]"
   ]
  },
  {
   "cell_type": "code",
   "execution_count": 22,
   "id": "14600393",
   "metadata": {},
   "outputs": [
    {
     "data": {
      "text/plain": [
       "''"
      ]
     },
     "execution_count": 22,
     "metadata": {},
     "output_type": "execute_result"
    }
   ],
   "source": [
    "city[-4:-1:-1]"
   ]
  },
  {
   "cell_type": "code",
   "execution_count": 23,
   "id": "65073031",
   "metadata": {},
   "outputs": [
    {
     "data": {
      "text/plain": [
       "'THA'"
      ]
     },
     "execution_count": 23,
     "metadata": {},
     "output_type": "execute_result"
    }
   ],
   "source": [
    "city[-4:-1]"
   ]
  },
  {
   "cell_type": "code",
   "execution_count": 24,
   "id": "24bf90e0",
   "metadata": {},
   "outputs": [
    {
     "data": {
      "text/plain": [
       "'N'"
      ]
     },
     "execution_count": 24,
     "metadata": {},
     "output_type": "execute_result"
    }
   ],
   "source": [
    "city[-1::]"
   ]
  },
  {
   "cell_type": "code",
   "execution_count": 25,
   "id": "8b46d39f",
   "metadata": {},
   "outputs": [
    {
     "data": {
      "text/plain": [
       "'AN'"
      ]
     },
     "execution_count": 25,
     "metadata": {},
     "output_type": "execute_result"
    }
   ],
   "source": [
    "city[-2::]"
   ]
  },
  {
   "cell_type": "code",
   "execution_count": 26,
   "id": "e39394ae",
   "metadata": {},
   "outputs": [
    {
     "data": {
      "text/plain": [
       "'AHTSAJAR'"
      ]
     },
     "execution_count": 26,
     "metadata": {},
     "output_type": "execute_result"
    }
   ],
   "source": [
    "city[-2::-1]"
   ]
  },
  {
   "cell_type": "code",
   "execution_count": 27,
   "id": "ae3b1292",
   "metadata": {},
   "outputs": [
    {
     "data": {
      "text/plain": [
       "'ASTHAN'"
      ]
     },
     "execution_count": 27,
     "metadata": {},
     "output_type": "execute_result"
    }
   ],
   "source": [
    "city[3::]"
   ]
  },
  {
   "cell_type": "code",
   "execution_count": 28,
   "id": "e8a6548e",
   "metadata": {},
   "outputs": [
    {
     "data": {
      "text/plain": [
       "'AJAR'"
      ]
     },
     "execution_count": 28,
     "metadata": {},
     "output_type": "execute_result"
    }
   ],
   "source": [
    "city[3::-1]"
   ]
  },
  {
   "cell_type": "code",
   "execution_count": 36,
   "id": "668eebd0",
   "metadata": {},
   "outputs": [
    {
     "name": "stdout",
     "output_type": "stream",
     "text": [
      "age is not 18\n"
     ]
    }
   ],
   "source": [
    "#conditional statement \n",
    "\n",
    "age=16\n",
    "if(age>=18):\n",
    "    print(\"my age is more than 18\")\n",
    "else:\n",
    "    print(\"age is not 18\")\n"
   ]
  },
  {
   "cell_type": "code",
   "execution_count": 43,
   "id": "aa7b5b5a",
   "metadata": {},
   "outputs": [
    {
     "name": "stdout",
     "output_type": "stream",
     "text": [
      "<class 'int'>\n",
      "10\n"
     ]
    }
   ],
   "source": [
    "a=10\n",
    "if(type(a)==int):\n",
    "    print(type(a))\n",
    "    print(a)\n",
    "    \n",
    "else:\n",
    "    print(\"value is not integer\")"
   ]
  },
  {
   "cell_type": "code",
   "execution_count": 49,
   "id": "3f2c6287",
   "metadata": {},
   "outputs": [
    {
     "name": "stdout",
     "output_type": "stream",
     "text": [
      "age is not upto the condition\n"
     ]
    }
   ],
   "source": [
    "age=22\n",
    "if(age==18):\n",
    "    print(\"age is 18\")\n",
    "elif(age==20):\n",
    "    print(\"age is more than 20\")\n",
    "else:\n",
    "    print(\"age is not upto the condition\")\n",
    "    "
   ]
  },
  {
   "cell_type": "code",
   "execution_count": 52,
   "id": "84f1eb7e",
   "metadata": {},
   "outputs": [
    {
     "name": "stdout",
     "output_type": "stream",
     "text": [
      "b is smaller\n"
     ]
    }
   ],
   "source": [
    "a=20\n",
    "b=10\n",
    "if (a<b):\n",
    "    print(\"a is smaller\")\n",
    "    \n",
    "else:\n",
    "    print(\"b is smaller\")"
   ]
  },
  {
   "cell_type": "code",
   "execution_count": 60,
   "id": "ad342c51",
   "metadata": {},
   "outputs": [
    {
     "name": "stdout",
     "output_type": "stream",
     "text": [
      "b is biggest\n"
     ]
    }
   ],
   "source": [
    "a=15\n",
    "b=23\n",
    "c=20\n",
    "\n",
    "if(a>b and a>>c):\n",
    "    print(\"a is biggest\")\n",
    "elif(b>a and b>c):\n",
    "    print(\"b is biggest\")\n",
    "else:\n",
    "    print(\"c is biggest\")"
   ]
  },
  {
   "cell_type": "code",
   "execution_count": 1,
   "id": "b458dad3",
   "metadata": {},
   "outputs": [
    {
     "name": "stdout",
     "output_type": "stream",
     "text": [
      "Enter a number:2\n",
      "2\n"
     ]
    }
   ],
   "source": [
    "x=int(input(\"Enter a number:\"))\n",
    "x=int(x)\n",
    "print(x)"
   ]
  },
  {
   "cell_type": "code",
   "execution_count": 4,
   "id": "b443f4f2",
   "metadata": {},
   "outputs": [
    {
     "name": "stdout",
     "output_type": "stream",
     "text": [
      "Enter a number:2\n",
      "2\n",
      "enter a number:3\n",
      "3\n",
      "6\n"
     ]
    }
   ],
   "source": [
    "x=int(input(\"Enter a number:\"))\n",
    "print(x)\n",
    "\n",
    "y=int(input(\"enter a number:\"))\n",
    "print(y)\n",
    "\n",
    "if(type(x and y == int)):\n",
    "   sum = x * y\n",
    "   print(sum)\n",
    "else:\n",
    "    print(\"value is neither integer nor float\")"
   ]
  },
  {
   "cell_type": "code",
   "execution_count": 5,
   "id": "0e1d771f",
   "metadata": {},
   "outputs": [
    {
     "name": "stdout",
     "output_type": "stream",
     "text": [
      "Enter a number:3\n",
      "3\n",
      "x is positive\n"
     ]
    }
   ],
   "source": [
    "x=int(input(\"Enter a number:\"))\n",
    "print(x)\n",
    "\n",
    "if(x>0):\n",
    "   print(\"x is positive\")\n",
    "elif(x<0):\n",
    "    print(\"x is negative\")\n",
    "    \n",
    "else:\n",
    "    print(\"x is neutral\")"
   ]
  },
  {
   "cell_type": "code",
   "execution_count": 6,
   "id": "5649e7ad",
   "metadata": {},
   "outputs": [
    {
     "name": "stdout",
     "output_type": "stream",
     "text": [
      "Enter a number:3\n",
      "3\n",
      "x is odd\n"
     ]
    }
   ],
   "source": [
    "x=int(input(\"Enter a number:\"))\n",
    "print(x)\n",
    "\n",
    "if(x%2 ==0):\n",
    "   print(\"x is even\")\n",
    "    \n",
    "else:\n",
    "    print(\"x is odd\")"
   ]
  },
  {
   "cell_type": "markdown",
   "id": "8bea7968",
   "metadata": {},
   "source": [
    "# Practical Assignment"
   ]
  },
  {
   "cell_type": "code",
   "execution_count": 7,
   "id": "9e2013c7",
   "metadata": {},
   "outputs": [
    {
     "name": "stdout",
     "output_type": "stream",
     "text": [
      "Enter a number:1\n",
      "1\n",
      "Enter a number:2\n",
      "2\n",
      "Enter a number:3\n",
      "3\n",
      "Enter a number:4\n",
      "4\n",
      "Enter a number:5\n",
      "5\n",
      "3.0\n"
     ]
    }
   ],
   "source": [
    "x=int(input(\"Enter a number:\"))\n",
    "print(x)\n",
    "\n",
    "y=int(input(\"Enter a number:\"))\n",
    "print(y)\n",
    "\n",
    "z=int(input(\"Enter a number:\"))\n",
    "print(z)\n",
    "\n",
    "a=int(input(\"Enter a number:\"))\n",
    "print(a)\n",
    "\n",
    "b=int(input(\"Enter a number:\"))\n",
    "print(b)\n",
    "\n",
    "sum = (x+y+z+a+b)/5\n",
    "\n",
    "print(sum)\n"
   ]
  },
  {
   "cell_type": "code",
   "execution_count": 1,
   "id": "4859dbce",
   "metadata": {},
   "outputs": [
    {
     "name": "stdout",
     "output_type": "stream",
     "text": [
      "Enter weight in Kg to Convert into pounds:33\n",
      "33.0  Kilograms = 72.7518  Pounds\n"
     ]
    }
   ],
   "source": [
    "kg = float(input('Enter weight in Kg to Convert into pounds:'))\n",
    "pounds = kg * 2.2046\n",
    "print(kg,' Kilograms =', pounds,' Pounds')"
   ]
  },
  {
   "cell_type": "code",
   "execution_count": 2,
   "id": "ecee7001",
   "metadata": {},
   "outputs": [
    {
     "name": "stdout",
     "output_type": "stream",
     "text": [
      "Please enter height:33\n",
      "396.0  Inches\n"
     ]
    }
   ],
   "source": [
    "feet = float(input(\"Please enter height:\"))\n",
    "inches = feet * 12\n",
    "print(inches, \" Inches\")"
   ]
  },
  {
   "cell_type": "code",
   "execution_count": 21,
   "id": "4fa83c81",
   "metadata": {},
   "outputs": [
    {
     "name": "stdout",
     "output_type": "stream",
     "text": [
      "Please enter feet:3.4\n",
      "40.8  Inches\n",
      "Your height is : 103 cm.\n"
     ]
    }
   ],
   "source": [
    "feet = float(input(\"Please enter feet:\"))\n",
    "inches = feet * 12\n",
    "print(inches, \" Inches\")\n",
    "h_cm = round(inches * 2.54, 1)\n",
    "print(\"Your height is : %d cm.\" % h_cm)"
   ]
  },
  {
   "cell_type": "code",
   "execution_count": 10,
   "id": "253b57bc",
   "metadata": {},
   "outputs": [
    {
     "name": "stdout",
     "output_type": "stream",
     "text": [
      "Please enter feet:3\n",
      "36.0 Inches\n",
      "Your height is : 91 cm.\n",
      "your height is : 2.00 m.\n"
     ]
    }
   ],
   "source": [
    "feet = float(input(\"Please enter feet:\"))\n",
    "inches = feet * 12\n",
    "print(inches, \"Inches\")\n",
    "h_in_cm = round(inches * 2.54, 1)\n",
    "print(\"Your height is : %d cm.\" % h_in_cm)\n",
    "h_m=round(h_cm/100)\n",
    "print(\"your height is : %.2f m.\" % h_m)"
   ]
  },
  {
   "cell_type": "markdown",
   "id": "8385e8f6",
   "metadata": {},
   "source": [
    "<!-- # Learning Assignment \n",
    "\n",
    "Operators – top 10 priority order ?? precedence order of operator\n",
    "Life scope of variables \n",
    "Utf8 and utf 16\n",
    "\n",
    "\n",
    "Ans 1: life scope of a variable\n",
    "\n",
    "The scope of variable is a region of the program where a variable is visible or accessible. Lifetime of a variable is the duration for which a variable exists in the memory. The existence and accessibility depend on the declaration of a variable in the program.\n",
    "the lifetime of a variable declared inside a function is as long as the function is alive. When the execution of function body is finished, then the variable defined inside a function will destroy.\n",
    "\n",
    "Types of Scope of Variables in Python\n",
    "There are two basic types of scope of variables in Python. They are:\n",
    "\n",
    "Global scope:When we define a variable inside the main program but outside the function body, then it has a global scope. The variable declared in the main body of the program or file is a global variable.\n",
    "\n",
    "In the global scope, the global variable will be visible throughout the program or file, and also inside any file which imports that file. We can easily access a variable defined in global scope from all kinds of functions and blocks.\n",
    "\n",
    "Local scope:A variable defined or created inside a function body or a block has a local scope. We can access it only within the declared function or block and not from outside that function or block.\n",
    "\n",
    "As the execution of function body or block is finished, Python destroys the local variable from the memory. In other words, local variable exists in the memory as long as the function is executing\n",
    "\n",
    "\n",
    "\n",
    "Ans 2: Difference between UTF -8 and UTF- 16\n",
    "Characteristic\tUTF-8\tUTF-16\t\tByte Order\tByte order is not relevant\tCan have different byte orders (big endian or little endian)\t\tCharacter Representation\tCharacters represented by a sequence of bytes\tCharacters represented by 16-bit code units\t\tSupported Characters\tSupports the entire Unicode character set\tSupports the entire Unicode character set, including supplementary characters\t\tUsage\tused for web, email, and storage system\tused in programming languages and operating systems\t\tEncoding Scheme\tVariable-length encoding scheme\tFixed-length encoding scheme (2 or 4 bytes)\t\tMemory Usage\tRequires less memory, especially for ASCII-based texts\tRequires more memory, especially for non-ASCII and supplementary characters\t\t\t\t\n",
    "Ans 3: top 10 priority order of operators\n",
    "\n",
    "Operator\n",
    "**\t  Exponentiation (raise to the power)\n",
    "~ + -  \tComplement, unary plus and minus (method names for the last two are +@ and -@)\n",
    "* / % //\t  Multiply, divide, modulo and floor division\n",
    "+ -\t      Addition and subtraction\n",
    ">> <<\t    Right and left bitwise shift\n",
    "&\t     Bitwise 'AND'td>\n",
    "^ |\tBitwise exclusive `OR' and regular `OR'\n",
    "<= < > >=\t      Comparison operators\n",
    "<> == !=\t        Equality operators\n",
    "= %= /= //= -= += = *=.     \tAssignment operators\n",
    "is is not.     \tIdentity operators\n",
    "in not in\t     Membership operators\n",
    "not or and\t      Logical operators\n",
    "\n",
    "\n"
   ]
  }
 ],
 "metadata": {
  "kernelspec": {
   "display_name": "Python 3 (ipykernel)",
   "language": "python",
   "name": "python3"
  },
  "language_info": {
   "codemirror_mode": {
    "name": "ipython",
    "version": 3
   },
   "file_extension": ".py",
   "mimetype": "text/x-python",
   "name": "python",
   "nbconvert_exporter": "python",
   "pygments_lexer": "ipython3",
   "version": "3.9.13"
  }
 },
 "nbformat": 4,
 "nbformat_minor": 5
}
